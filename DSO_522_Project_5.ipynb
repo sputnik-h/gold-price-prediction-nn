{
 "cells": [
  {
   "cell_type": "markdown",
   "metadata": {
    "id": "C0TAasvGja-p"
   },
   "source": [
    "# 0. Initial Setup"
   ]
  },
  {
   "cell_type": "code",
   "execution_count": 1,
   "metadata": {
    "colab": {
     "base_uri": "https://localhost:8080/"
    },
    "id": "8nQtksKtX4gj",
    "outputId": "375c8d34-d2bc-438f-b8b3-c5944a681c4f"
   },
   "outputs": [],
   "source": [
    "#pip install scikeras"
   ]
  },
  {
   "cell_type": "code",
   "execution_count": 2,
   "metadata": {
    "colab": {
     "base_uri": "https://localhost:8080/"
    },
    "id": "MGcjB48np3Ue",
    "outputId": "6c2dde84-649c-4d89-8df6-ad5112b9a563"
   },
   "outputs": [],
   "source": [
    "#pip install keras_tuner"
   ]
  },
  {
   "cell_type": "code",
   "execution_count": 3,
   "metadata": {
    "id": "2rIjlhl-d7SM"
   },
   "outputs": [
    {
     "name": "stderr",
     "output_type": "stream",
     "text": [
      "2024-04-24 15:43:06.312377: I tensorflow/core/util/port.cc:113] oneDNN custom operations are on. You may see slightly different numerical results due to floating-point round-off errors from different computation orders. To turn them off, set the environment variable `TF_ENABLE_ONEDNN_OPTS=0`.\n",
      "2024-04-24 15:43:06.360590: E external/local_xla/xla/stream_executor/cuda/cuda_dnn.cc:9261] Unable to register cuDNN factory: Attempting to register factory for plugin cuDNN when one has already been registered\n",
      "2024-04-24 15:43:06.360635: E external/local_xla/xla/stream_executor/cuda/cuda_fft.cc:607] Unable to register cuFFT factory: Attempting to register factory for plugin cuFFT when one has already been registered\n",
      "2024-04-24 15:43:06.361782: E external/local_xla/xla/stream_executor/cuda/cuda_blas.cc:1515] Unable to register cuBLAS factory: Attempting to register factory for plugin cuBLAS when one has already been registered\n",
      "2024-04-24 15:43:06.369076: I tensorflow/core/platform/cpu_feature_guard.cc:182] This TensorFlow binary is optimized to use available CPU instructions in performance-critical operations.\n",
      "To enable the following instructions: AVX2 AVX512F AVX512_VNNI FMA, in other operations, rebuild TensorFlow with the appropriate compiler flags.\n"
     ]
    }
   ],
   "source": [
    "# import libraries\n",
    "import pandas as pd\n",
    "import numpy as np\n",
    "import matplotlib.pyplot as plt\n",
    "import seaborn as sns\n",
    "\n",
    "from sklearn.model_selection import train_test_split\n",
    "from sklearn.preprocessing import MinMaxScaler\n",
    "\n",
    "import tensorflow as tf\n",
    "from tensorflow import keras\n",
    "from scikeras.wrappers import KerasClassifier, KerasRegressor\n",
    "from sklearn.model_selection import GridSearchCV\n",
    "import keras_tuner as kt\n",
    "\n",
    "import warnings\n",
    "warnings.filterwarnings(\"ignore\")"
   ]
  },
  {
   "cell_type": "code",
   "execution_count": 4,
   "metadata": {
    "colab": {
     "base_uri": "https://localhost:8080/"
    },
    "id": "GceUFCqAeKmJ",
    "outputId": "7b5fe80a-741b-45c8-d068-d3aa86f8a6fd"
   },
   "outputs": [],
   "source": [
    "# load data\n",
    "df = pd.read_csv('FINAL_USO.csv')"
   ]
  },
  {
   "cell_type": "markdown",
   "metadata": {
    "id": "GhDWOKv2jx-y"
   },
   "source": [
    "# 1. EDA and Feature Engineering"
   ]
  },
  {
   "cell_type": "code",
   "execution_count": 5,
   "metadata": {
    "colab": {
     "base_uri": "https://localhost:8080/",
     "height": 635
    },
    "id": "Cj_tkLhHV08K",
    "outputId": "d1ed1139-6baa-4f96-e413-9a8fd09e1a71"
   },
   "outputs": [
    {
     "data": {
      "text/html": [
       "<div>\n",
       "<style scoped>\n",
       "    .dataframe tbody tr th:only-of-type {\n",
       "        vertical-align: middle;\n",
       "    }\n",
       "\n",
       "    .dataframe tbody tr th {\n",
       "        vertical-align: top;\n",
       "    }\n",
       "\n",
       "    .dataframe thead th {\n",
       "        text-align: right;\n",
       "    }\n",
       "</style>\n",
       "<table border=\"1\" class=\"dataframe\">\n",
       "  <thead>\n",
       "    <tr style=\"text-align: right;\">\n",
       "      <th></th>\n",
       "      <th>Date</th>\n",
       "      <th>Open</th>\n",
       "      <th>High</th>\n",
       "      <th>Low</th>\n",
       "      <th>Close</th>\n",
       "      <th>Adj Close</th>\n",
       "      <th>Volume</th>\n",
       "      <th>SP_open</th>\n",
       "      <th>SP_high</th>\n",
       "      <th>SP_low</th>\n",
       "      <th>...</th>\n",
       "      <th>GDX_Low</th>\n",
       "      <th>GDX_Close</th>\n",
       "      <th>GDX_Adj Close</th>\n",
       "      <th>GDX_Volume</th>\n",
       "      <th>USO_Open</th>\n",
       "      <th>USO_High</th>\n",
       "      <th>USO_Low</th>\n",
       "      <th>USO_Close</th>\n",
       "      <th>USO_Adj Close</th>\n",
       "      <th>USO_Volume</th>\n",
       "    </tr>\n",
       "  </thead>\n",
       "  <tbody>\n",
       "    <tr>\n",
       "      <th>0</th>\n",
       "      <td>2011-12-15</td>\n",
       "      <td>154.740005</td>\n",
       "      <td>154.949997</td>\n",
       "      <td>151.710007</td>\n",
       "      <td>152.330002</td>\n",
       "      <td>152.330002</td>\n",
       "      <td>21521900</td>\n",
       "      <td>123.029999</td>\n",
       "      <td>123.199997</td>\n",
       "      <td>121.989998</td>\n",
       "      <td>...</td>\n",
       "      <td>51.570000</td>\n",
       "      <td>51.680000</td>\n",
       "      <td>48.973877</td>\n",
       "      <td>20605600</td>\n",
       "      <td>36.900002</td>\n",
       "      <td>36.939999</td>\n",
       "      <td>36.049999</td>\n",
       "      <td>36.130001</td>\n",
       "      <td>36.130001</td>\n",
       "      <td>12616700</td>\n",
       "    </tr>\n",
       "    <tr>\n",
       "      <th>1</th>\n",
       "      <td>2011-12-16</td>\n",
       "      <td>154.309998</td>\n",
       "      <td>155.369995</td>\n",
       "      <td>153.899994</td>\n",
       "      <td>155.229996</td>\n",
       "      <td>155.229996</td>\n",
       "      <td>18124300</td>\n",
       "      <td>122.230003</td>\n",
       "      <td>122.949997</td>\n",
       "      <td>121.300003</td>\n",
       "      <td>...</td>\n",
       "      <td>52.040001</td>\n",
       "      <td>52.680000</td>\n",
       "      <td>49.921513</td>\n",
       "      <td>16285400</td>\n",
       "      <td>36.180000</td>\n",
       "      <td>36.500000</td>\n",
       "      <td>35.730000</td>\n",
       "      <td>36.270000</td>\n",
       "      <td>36.270000</td>\n",
       "      <td>12578800</td>\n",
       "    </tr>\n",
       "    <tr>\n",
       "      <th>2</th>\n",
       "      <td>2011-12-19</td>\n",
       "      <td>155.479996</td>\n",
       "      <td>155.860001</td>\n",
       "      <td>154.360001</td>\n",
       "      <td>154.869995</td>\n",
       "      <td>154.869995</td>\n",
       "      <td>12547200</td>\n",
       "      <td>122.059998</td>\n",
       "      <td>122.320000</td>\n",
       "      <td>120.029999</td>\n",
       "      <td>...</td>\n",
       "      <td>51.029999</td>\n",
       "      <td>51.169998</td>\n",
       "      <td>48.490578</td>\n",
       "      <td>15120200</td>\n",
       "      <td>36.389999</td>\n",
       "      <td>36.450001</td>\n",
       "      <td>35.930000</td>\n",
       "      <td>36.200001</td>\n",
       "      <td>36.200001</td>\n",
       "      <td>7418200</td>\n",
       "    </tr>\n",
       "    <tr>\n",
       "      <th>3</th>\n",
       "      <td>2011-12-20</td>\n",
       "      <td>156.820007</td>\n",
       "      <td>157.429993</td>\n",
       "      <td>156.580002</td>\n",
       "      <td>156.979996</td>\n",
       "      <td>156.979996</td>\n",
       "      <td>9136300</td>\n",
       "      <td>122.180000</td>\n",
       "      <td>124.139999</td>\n",
       "      <td>120.370003</td>\n",
       "      <td>...</td>\n",
       "      <td>52.369999</td>\n",
       "      <td>52.990002</td>\n",
       "      <td>50.215282</td>\n",
       "      <td>11644900</td>\n",
       "      <td>37.299999</td>\n",
       "      <td>37.610001</td>\n",
       "      <td>37.220001</td>\n",
       "      <td>37.560001</td>\n",
       "      <td>37.560001</td>\n",
       "      <td>10041600</td>\n",
       "    </tr>\n",
       "    <tr>\n",
       "      <th>4</th>\n",
       "      <td>2011-12-21</td>\n",
       "      <td>156.979996</td>\n",
       "      <td>157.529999</td>\n",
       "      <td>156.130005</td>\n",
       "      <td>157.160004</td>\n",
       "      <td>157.160004</td>\n",
       "      <td>11996100</td>\n",
       "      <td>123.930000</td>\n",
       "      <td>124.360001</td>\n",
       "      <td>122.750000</td>\n",
       "      <td>...</td>\n",
       "      <td>52.419998</td>\n",
       "      <td>52.959999</td>\n",
       "      <td>50.186852</td>\n",
       "      <td>8724300</td>\n",
       "      <td>37.669998</td>\n",
       "      <td>38.240002</td>\n",
       "      <td>37.520000</td>\n",
       "      <td>38.110001</td>\n",
       "      <td>38.110001</td>\n",
       "      <td>10728000</td>\n",
       "    </tr>\n",
       "    <tr>\n",
       "      <th>...</th>\n",
       "      <td>...</td>\n",
       "      <td>...</td>\n",
       "      <td>...</td>\n",
       "      <td>...</td>\n",
       "      <td>...</td>\n",
       "      <td>...</td>\n",
       "      <td>...</td>\n",
       "      <td>...</td>\n",
       "      <td>...</td>\n",
       "      <td>...</td>\n",
       "      <td>...</td>\n",
       "      <td>...</td>\n",
       "      <td>...</td>\n",
       "      <td>...</td>\n",
       "      <td>...</td>\n",
       "      <td>...</td>\n",
       "      <td>...</td>\n",
       "      <td>...</td>\n",
       "      <td>...</td>\n",
       "      <td>...</td>\n",
       "      <td>...</td>\n",
       "    </tr>\n",
       "    <tr>\n",
       "      <th>1713</th>\n",
       "      <td>2018-12-24</td>\n",
       "      <td>119.570000</td>\n",
       "      <td>120.139999</td>\n",
       "      <td>119.570000</td>\n",
       "      <td>120.019997</td>\n",
       "      <td>120.019997</td>\n",
       "      <td>9736400</td>\n",
       "      <td>239.039993</td>\n",
       "      <td>240.839996</td>\n",
       "      <td>234.270004</td>\n",
       "      <td>...</td>\n",
       "      <td>20.650000</td>\n",
       "      <td>21.090000</td>\n",
       "      <td>21.090000</td>\n",
       "      <td>60507000</td>\n",
       "      <td>9.490000</td>\n",
       "      <td>9.520000</td>\n",
       "      <td>9.280000</td>\n",
       "      <td>9.290000</td>\n",
       "      <td>9.290000</td>\n",
       "      <td>21598200</td>\n",
       "    </tr>\n",
       "    <tr>\n",
       "      <th>1714</th>\n",
       "      <td>2018-12-26</td>\n",
       "      <td>120.620003</td>\n",
       "      <td>121.000000</td>\n",
       "      <td>119.570000</td>\n",
       "      <td>119.660004</td>\n",
       "      <td>119.660004</td>\n",
       "      <td>14293500</td>\n",
       "      <td>235.970001</td>\n",
       "      <td>246.179993</td>\n",
       "      <td>233.759995</td>\n",
       "      <td>...</td>\n",
       "      <td>20.530001</td>\n",
       "      <td>20.620001</td>\n",
       "      <td>20.620001</td>\n",
       "      <td>76365200</td>\n",
       "      <td>9.250000</td>\n",
       "      <td>9.920000</td>\n",
       "      <td>9.230000</td>\n",
       "      <td>9.900000</td>\n",
       "      <td>9.900000</td>\n",
       "      <td>40978800</td>\n",
       "    </tr>\n",
       "    <tr>\n",
       "      <th>1715</th>\n",
       "      <td>2018-12-27</td>\n",
       "      <td>120.570000</td>\n",
       "      <td>120.900002</td>\n",
       "      <td>120.139999</td>\n",
       "      <td>120.570000</td>\n",
       "      <td>120.570000</td>\n",
       "      <td>11874400</td>\n",
       "      <td>242.570007</td>\n",
       "      <td>248.289993</td>\n",
       "      <td>238.960007</td>\n",
       "      <td>...</td>\n",
       "      <td>20.700001</td>\n",
       "      <td>20.969999</td>\n",
       "      <td>20.969999</td>\n",
       "      <td>52393000</td>\n",
       "      <td>9.590000</td>\n",
       "      <td>9.650000</td>\n",
       "      <td>9.370000</td>\n",
       "      <td>9.620000</td>\n",
       "      <td>9.620000</td>\n",
       "      <td>36578700</td>\n",
       "    </tr>\n",
       "    <tr>\n",
       "      <th>1716</th>\n",
       "      <td>2018-12-28</td>\n",
       "      <td>120.800003</td>\n",
       "      <td>121.080002</td>\n",
       "      <td>120.720001</td>\n",
       "      <td>121.059998</td>\n",
       "      <td>121.059998</td>\n",
       "      <td>6864700</td>\n",
       "      <td>249.580002</td>\n",
       "      <td>251.399994</td>\n",
       "      <td>246.449997</td>\n",
       "      <td>...</td>\n",
       "      <td>20.570000</td>\n",
       "      <td>20.600000</td>\n",
       "      <td>20.600000</td>\n",
       "      <td>49835000</td>\n",
       "      <td>9.540000</td>\n",
       "      <td>9.650000</td>\n",
       "      <td>9.380000</td>\n",
       "      <td>9.530000</td>\n",
       "      <td>9.530000</td>\n",
       "      <td>22803400</td>\n",
       "    </tr>\n",
       "    <tr>\n",
       "      <th>1717</th>\n",
       "      <td>2018-12-31</td>\n",
       "      <td>120.980003</td>\n",
       "      <td>121.260002</td>\n",
       "      <td>120.830002</td>\n",
       "      <td>121.250000</td>\n",
       "      <td>121.250000</td>\n",
       "      <td>8449400</td>\n",
       "      <td>249.559998</td>\n",
       "      <td>250.190002</td>\n",
       "      <td>247.470001</td>\n",
       "      <td>...</td>\n",
       "      <td>20.559999</td>\n",
       "      <td>21.090000</td>\n",
       "      <td>21.090000</td>\n",
       "      <td>53866600</td>\n",
       "      <td>9.630000</td>\n",
       "      <td>9.710000</td>\n",
       "      <td>9.440000</td>\n",
       "      <td>9.660000</td>\n",
       "      <td>9.660000</td>\n",
       "      <td>28417400</td>\n",
       "    </tr>\n",
       "  </tbody>\n",
       "</table>\n",
       "<p>1718 rows × 81 columns</p>\n",
       "</div>"
      ],
      "text/plain": [
       "            Date        Open        High         Low       Close   Adj Close  \\\n",
       "0     2011-12-15  154.740005  154.949997  151.710007  152.330002  152.330002   \n",
       "1     2011-12-16  154.309998  155.369995  153.899994  155.229996  155.229996   \n",
       "2     2011-12-19  155.479996  155.860001  154.360001  154.869995  154.869995   \n",
       "3     2011-12-20  156.820007  157.429993  156.580002  156.979996  156.979996   \n",
       "4     2011-12-21  156.979996  157.529999  156.130005  157.160004  157.160004   \n",
       "...          ...         ...         ...         ...         ...         ...   \n",
       "1713  2018-12-24  119.570000  120.139999  119.570000  120.019997  120.019997   \n",
       "1714  2018-12-26  120.620003  121.000000  119.570000  119.660004  119.660004   \n",
       "1715  2018-12-27  120.570000  120.900002  120.139999  120.570000  120.570000   \n",
       "1716  2018-12-28  120.800003  121.080002  120.720001  121.059998  121.059998   \n",
       "1717  2018-12-31  120.980003  121.260002  120.830002  121.250000  121.250000   \n",
       "\n",
       "        Volume     SP_open     SP_high      SP_low  ...    GDX_Low  GDX_Close  \\\n",
       "0     21521900  123.029999  123.199997  121.989998  ...  51.570000  51.680000   \n",
       "1     18124300  122.230003  122.949997  121.300003  ...  52.040001  52.680000   \n",
       "2     12547200  122.059998  122.320000  120.029999  ...  51.029999  51.169998   \n",
       "3      9136300  122.180000  124.139999  120.370003  ...  52.369999  52.990002   \n",
       "4     11996100  123.930000  124.360001  122.750000  ...  52.419998  52.959999   \n",
       "...        ...         ...         ...         ...  ...        ...        ...   \n",
       "1713   9736400  239.039993  240.839996  234.270004  ...  20.650000  21.090000   \n",
       "1714  14293500  235.970001  246.179993  233.759995  ...  20.530001  20.620001   \n",
       "1715  11874400  242.570007  248.289993  238.960007  ...  20.700001  20.969999   \n",
       "1716   6864700  249.580002  251.399994  246.449997  ...  20.570000  20.600000   \n",
       "1717   8449400  249.559998  250.190002  247.470001  ...  20.559999  21.090000   \n",
       "\n",
       "      GDX_Adj Close  GDX_Volume   USO_Open   USO_High    USO_Low  USO_Close  \\\n",
       "0         48.973877    20605600  36.900002  36.939999  36.049999  36.130001   \n",
       "1         49.921513    16285400  36.180000  36.500000  35.730000  36.270000   \n",
       "2         48.490578    15120200  36.389999  36.450001  35.930000  36.200001   \n",
       "3         50.215282    11644900  37.299999  37.610001  37.220001  37.560001   \n",
       "4         50.186852     8724300  37.669998  38.240002  37.520000  38.110001   \n",
       "...             ...         ...        ...        ...        ...        ...   \n",
       "1713      21.090000    60507000   9.490000   9.520000   9.280000   9.290000   \n",
       "1714      20.620001    76365200   9.250000   9.920000   9.230000   9.900000   \n",
       "1715      20.969999    52393000   9.590000   9.650000   9.370000   9.620000   \n",
       "1716      20.600000    49835000   9.540000   9.650000   9.380000   9.530000   \n",
       "1717      21.090000    53866600   9.630000   9.710000   9.440000   9.660000   \n",
       "\n",
       "      USO_Adj Close  USO_Volume  \n",
       "0         36.130001    12616700  \n",
       "1         36.270000    12578800  \n",
       "2         36.200001     7418200  \n",
       "3         37.560001    10041600  \n",
       "4         38.110001    10728000  \n",
       "...             ...         ...  \n",
       "1713       9.290000    21598200  \n",
       "1714       9.900000    40978800  \n",
       "1715       9.620000    36578700  \n",
       "1716       9.530000    22803400  \n",
       "1717       9.660000    28417400  \n",
       "\n",
       "[1718 rows x 81 columns]"
      ]
     },
     "execution_count": 5,
     "metadata": {},
     "output_type": "execute_result"
    }
   ],
   "source": [
    "df"
   ]
  },
  {
   "cell_type": "code",
   "execution_count": 6,
   "metadata": {
    "colab": {
     "base_uri": "https://localhost:8080/",
     "height": 446
    },
    "id": "H5Va-d6de2h5",
    "outputId": "408f870c-55b1-4069-d021-e9447450813f"
   },
   "outputs": [
    {
     "data": {
      "text/html": [
       "<div>\n",
       "<style scoped>\n",
       "    .dataframe tbody tr th:only-of-type {\n",
       "        vertical-align: middle;\n",
       "    }\n",
       "\n",
       "    .dataframe tbody tr th {\n",
       "        vertical-align: top;\n",
       "    }\n",
       "\n",
       "    .dataframe thead th {\n",
       "        text-align: right;\n",
       "    }\n",
       "</style>\n",
       "<table border=\"1\" class=\"dataframe\">\n",
       "  <thead>\n",
       "    <tr style=\"text-align: right;\">\n",
       "      <th></th>\n",
       "      <th>Date</th>\n",
       "      <th>Open</th>\n",
       "      <th>High</th>\n",
       "      <th>Low</th>\n",
       "      <th>Close</th>\n",
       "      <th>Adj Close</th>\n",
       "      <th>Volume</th>\n",
       "      <th>SP_open</th>\n",
       "      <th>SP_high</th>\n",
       "      <th>SP_low</th>\n",
       "      <th>...</th>\n",
       "      <th>GDX_Low</th>\n",
       "      <th>GDX_Close</th>\n",
       "      <th>GDX_Adj Close</th>\n",
       "      <th>GDX_Volume</th>\n",
       "      <th>USO_Open</th>\n",
       "      <th>USO_High</th>\n",
       "      <th>USO_Low</th>\n",
       "      <th>USO_Close</th>\n",
       "      <th>USO_Adj Close</th>\n",
       "      <th>USO_Volume</th>\n",
       "    </tr>\n",
       "  </thead>\n",
       "  <tbody>\n",
       "    <tr>\n",
       "      <th>0</th>\n",
       "      <td>2011-12-15</td>\n",
       "      <td>154.740005</td>\n",
       "      <td>154.949997</td>\n",
       "      <td>151.710007</td>\n",
       "      <td>152.330002</td>\n",
       "      <td>152.330002</td>\n",
       "      <td>21521900</td>\n",
       "      <td>123.029999</td>\n",
       "      <td>123.199997</td>\n",
       "      <td>121.989998</td>\n",
       "      <td>...</td>\n",
       "      <td>51.570000</td>\n",
       "      <td>51.680000</td>\n",
       "      <td>48.973877</td>\n",
       "      <td>20605600</td>\n",
       "      <td>36.900002</td>\n",
       "      <td>36.939999</td>\n",
       "      <td>36.049999</td>\n",
       "      <td>36.130001</td>\n",
       "      <td>36.130001</td>\n",
       "      <td>12616700</td>\n",
       "    </tr>\n",
       "    <tr>\n",
       "      <th>1</th>\n",
       "      <td>2011-12-16</td>\n",
       "      <td>154.309998</td>\n",
       "      <td>155.369995</td>\n",
       "      <td>153.899994</td>\n",
       "      <td>155.229996</td>\n",
       "      <td>155.229996</td>\n",
       "      <td>18124300</td>\n",
       "      <td>122.230003</td>\n",
       "      <td>122.949997</td>\n",
       "      <td>121.300003</td>\n",
       "      <td>...</td>\n",
       "      <td>52.040001</td>\n",
       "      <td>52.680000</td>\n",
       "      <td>49.921513</td>\n",
       "      <td>16285400</td>\n",
       "      <td>36.180000</td>\n",
       "      <td>36.500000</td>\n",
       "      <td>35.730000</td>\n",
       "      <td>36.270000</td>\n",
       "      <td>36.270000</td>\n",
       "      <td>12578800</td>\n",
       "    </tr>\n",
       "    <tr>\n",
       "      <th>2</th>\n",
       "      <td>2011-12-19</td>\n",
       "      <td>155.479996</td>\n",
       "      <td>155.860001</td>\n",
       "      <td>154.360001</td>\n",
       "      <td>154.869995</td>\n",
       "      <td>154.869995</td>\n",
       "      <td>12547200</td>\n",
       "      <td>122.059998</td>\n",
       "      <td>122.320000</td>\n",
       "      <td>120.029999</td>\n",
       "      <td>...</td>\n",
       "      <td>51.029999</td>\n",
       "      <td>51.169998</td>\n",
       "      <td>48.490578</td>\n",
       "      <td>15120200</td>\n",
       "      <td>36.389999</td>\n",
       "      <td>36.450001</td>\n",
       "      <td>35.930000</td>\n",
       "      <td>36.200001</td>\n",
       "      <td>36.200001</td>\n",
       "      <td>7418200</td>\n",
       "    </tr>\n",
       "    <tr>\n",
       "      <th>3</th>\n",
       "      <td>2011-12-20</td>\n",
       "      <td>156.820007</td>\n",
       "      <td>157.429993</td>\n",
       "      <td>156.580002</td>\n",
       "      <td>156.979996</td>\n",
       "      <td>156.979996</td>\n",
       "      <td>9136300</td>\n",
       "      <td>122.180000</td>\n",
       "      <td>124.139999</td>\n",
       "      <td>120.370003</td>\n",
       "      <td>...</td>\n",
       "      <td>52.369999</td>\n",
       "      <td>52.990002</td>\n",
       "      <td>50.215282</td>\n",
       "      <td>11644900</td>\n",
       "      <td>37.299999</td>\n",
       "      <td>37.610001</td>\n",
       "      <td>37.220001</td>\n",
       "      <td>37.560001</td>\n",
       "      <td>37.560001</td>\n",
       "      <td>10041600</td>\n",
       "    </tr>\n",
       "    <tr>\n",
       "      <th>4</th>\n",
       "      <td>2011-12-21</td>\n",
       "      <td>156.979996</td>\n",
       "      <td>157.529999</td>\n",
       "      <td>156.130005</td>\n",
       "      <td>157.160004</td>\n",
       "      <td>157.160004</td>\n",
       "      <td>11996100</td>\n",
       "      <td>123.930000</td>\n",
       "      <td>124.360001</td>\n",
       "      <td>122.750000</td>\n",
       "      <td>...</td>\n",
       "      <td>52.419998</td>\n",
       "      <td>52.959999</td>\n",
       "      <td>50.186852</td>\n",
       "      <td>8724300</td>\n",
       "      <td>37.669998</td>\n",
       "      <td>38.240002</td>\n",
       "      <td>37.520000</td>\n",
       "      <td>38.110001</td>\n",
       "      <td>38.110001</td>\n",
       "      <td>10728000</td>\n",
       "    </tr>\n",
       "  </tbody>\n",
       "</table>\n",
       "<p>5 rows × 81 columns</p>\n",
       "</div>"
      ],
      "text/plain": [
       "         Date        Open        High         Low       Close   Adj Close  \\\n",
       "0  2011-12-15  154.740005  154.949997  151.710007  152.330002  152.330002   \n",
       "1  2011-12-16  154.309998  155.369995  153.899994  155.229996  155.229996   \n",
       "2  2011-12-19  155.479996  155.860001  154.360001  154.869995  154.869995   \n",
       "3  2011-12-20  156.820007  157.429993  156.580002  156.979996  156.979996   \n",
       "4  2011-12-21  156.979996  157.529999  156.130005  157.160004  157.160004   \n",
       "\n",
       "     Volume     SP_open     SP_high      SP_low  ...    GDX_Low  GDX_Close  \\\n",
       "0  21521900  123.029999  123.199997  121.989998  ...  51.570000  51.680000   \n",
       "1  18124300  122.230003  122.949997  121.300003  ...  52.040001  52.680000   \n",
       "2  12547200  122.059998  122.320000  120.029999  ...  51.029999  51.169998   \n",
       "3   9136300  122.180000  124.139999  120.370003  ...  52.369999  52.990002   \n",
       "4  11996100  123.930000  124.360001  122.750000  ...  52.419998  52.959999   \n",
       "\n",
       "   GDX_Adj Close  GDX_Volume   USO_Open   USO_High    USO_Low  USO_Close  \\\n",
       "0      48.973877    20605600  36.900002  36.939999  36.049999  36.130001   \n",
       "1      49.921513    16285400  36.180000  36.500000  35.730000  36.270000   \n",
       "2      48.490578    15120200  36.389999  36.450001  35.930000  36.200001   \n",
       "3      50.215282    11644900  37.299999  37.610001  37.220001  37.560001   \n",
       "4      50.186852     8724300  37.669998  38.240002  37.520000  38.110001   \n",
       "\n",
       "   USO_Adj Close  USO_Volume  \n",
       "0      36.130001    12616700  \n",
       "1      36.270000    12578800  \n",
       "2      36.200001     7418200  \n",
       "3      37.560001    10041600  \n",
       "4      38.110001    10728000  \n",
       "\n",
       "[5 rows x 81 columns]"
      ]
     },
     "execution_count": 6,
     "metadata": {},
     "output_type": "execute_result"
    }
   ],
   "source": [
    "# preview data\n",
    "df.head()"
   ]
  },
  {
   "cell_type": "code",
   "execution_count": 7,
   "metadata": {
    "colab": {
     "base_uri": "https://localhost:8080/"
    },
    "id": "hmxt-NOUfpCB",
    "outputId": "b6ce39ee-2157-4860-a8df-292fc5b59587"
   },
   "outputs": [
    {
     "data": {
      "text/plain": [
       "Index(['Date', 'Open', 'High', 'Low', 'Close', 'Adj Close', 'Volume',\n",
       "       'SP_open', 'SP_high', 'SP_low', 'SP_close', 'SP_Ajclose', 'SP_volume',\n",
       "       'DJ_open', 'DJ_high', 'DJ_low', 'DJ_close', 'DJ_Ajclose', 'DJ_volume',\n",
       "       'EG_open', 'EG_high', 'EG_low', 'EG_close', 'EG_Ajclose', 'EG_volume',\n",
       "       'EU_Price', 'EU_open', 'EU_high', 'EU_low', 'EU_Trend', 'OF_Price',\n",
       "       'OF_Open', 'OF_High', 'OF_Low', 'OF_Volume', 'OF_Trend', 'OS_Price',\n",
       "       'OS_Open', 'OS_High', 'OS_Low', 'OS_Trend', 'SF_Price', 'SF_Open',\n",
       "       'SF_High', 'SF_Low', 'SF_Volume', 'SF_Trend', 'USB_Price', 'USB_Open',\n",
       "       'USB_High', 'USB_Low', 'USB_Trend', 'PLT_Price', 'PLT_Open', 'PLT_High',\n",
       "       'PLT_Low', 'PLT_Trend', 'PLD_Price', 'PLD_Open', 'PLD_High', 'PLD_Low',\n",
       "       'PLD_Trend', 'RHO_PRICE', 'USDI_Price', 'USDI_Open', 'USDI_High',\n",
       "       'USDI_Low', 'USDI_Volume', 'USDI_Trend', 'GDX_Open', 'GDX_High',\n",
       "       'GDX_Low', 'GDX_Close', 'GDX_Adj Close', 'GDX_Volume', 'USO_Open',\n",
       "       'USO_High', 'USO_Low', 'USO_Close', 'USO_Adj Close', 'USO_Volume'],\n",
       "      dtype='object')"
      ]
     },
     "execution_count": 7,
     "metadata": {},
     "output_type": "execute_result"
    }
   ],
   "source": [
    "# preview columns\n",
    "df.columns"
   ]
  },
  {
   "cell_type": "code",
   "execution_count": 8,
   "metadata": {
    "colab": {
     "base_uri": "https://localhost:8080/"
    },
    "id": "Ur_RePkrfs0v",
    "outputId": "c1bcf9c4-0795-4019-8d18-4f928bcc0675"
   },
   "outputs": [
    {
     "data": {
      "text/plain": [
       "Series([], dtype: float64)"
      ]
     },
     "execution_count": 8,
     "metadata": {},
     "output_type": "execute_result"
    }
   ],
   "source": [
    "# check null values\n",
    "df_col_null = df.columns[df.isnull().any()==True].tolist()\n",
    "\n",
    "df[df_col_null].isnull().sum()"
   ]
  },
  {
   "cell_type": "code",
   "execution_count": 9,
   "metadata": {
    "id": "JwwZVxH6hxAM"
   },
   "outputs": [],
   "source": [
    "# create trend columns for corrosponding features\n",
    "trend_missing = ['Adj Close', 'SP_Ajclose', 'DJ_Ajclose', 'USO_Adj Close']\n",
    "\n",
    "for col in trend_missing:\n",
    "  df[col.replace('_Ajclose', '')+'_Trend']= (df[col] - df[col].shift(1) > 0).astype(int)"
   ]
  },
  {
   "cell_type": "code",
   "execution_count": 10,
   "metadata": {
    "colab": {
     "base_uri": "https://localhost:8080/"
    },
    "id": "62FN6iAfjeCR",
    "outputId": "27297eaa-fb78-4e38-cae3-35d89f686811"
   },
   "outputs": [
    {
     "data": {
      "text/plain": [
       "Index(['Date', 'Open', 'High', 'Low', 'Close', 'Adj Close', 'Volume',\n",
       "       'SP_open', 'SP_high', 'SP_low', 'SP_close', 'SP_Ajclose', 'SP_volume',\n",
       "       'DJ_open', 'DJ_high', 'DJ_low', 'DJ_close', 'DJ_Ajclose', 'DJ_volume',\n",
       "       'EG_open', 'EG_high', 'EG_low', 'EG_close', 'EG_Ajclose', 'EG_volume',\n",
       "       'EU_Price', 'EU_open', 'EU_high', 'EU_low', 'EU_Trend', 'OF_Price',\n",
       "       'OF_Open', 'OF_High', 'OF_Low', 'OF_Volume', 'OF_Trend', 'OS_Price',\n",
       "       'OS_Open', 'OS_High', 'OS_Low', 'OS_Trend', 'SF_Price', 'SF_Open',\n",
       "       'SF_High', 'SF_Low', 'SF_Volume', 'SF_Trend', 'USB_Price', 'USB_Open',\n",
       "       'USB_High', 'USB_Low', 'USB_Trend', 'PLT_Price', 'PLT_Open', 'PLT_High',\n",
       "       'PLT_Low', 'PLT_Trend', 'PLD_Price', 'PLD_Open', 'PLD_High', 'PLD_Low',\n",
       "       'PLD_Trend', 'RHO_PRICE', 'USDI_Price', 'USDI_Open', 'USDI_High',\n",
       "       'USDI_Low', 'USDI_Volume', 'USDI_Trend', 'GDX_Open', 'GDX_High',\n",
       "       'GDX_Low', 'GDX_Close', 'GDX_Adj Close', 'GDX_Volume', 'USO_Open',\n",
       "       'USO_High', 'USO_Low', 'USO_Close', 'USO_Adj Close', 'USO_Volume',\n",
       "       'Adj Close_Trend', 'SP_Trend', 'DJ_Trend', 'USO_Adj Close_Trend'],\n",
       "      dtype='object')"
      ]
     },
     "execution_count": 10,
     "metadata": {},
     "output_type": "execute_result"
    }
   ],
   "source": [
    "df.columns"
   ]
  },
  {
   "cell_type": "code",
   "execution_count": 11,
   "metadata": {
    "id": "j7de1bZYjI8l"
   },
   "outputs": [],
   "source": [
    "df.rename(columns={\"USO_Adj Close_Trend\": \"USO_Trend\", 'Adj Close_Trend': 'Gold_Trend'}, inplace = True)"
   ]
  },
  {
   "cell_type": "code",
   "execution_count": 12,
   "metadata": {
    "id": "0-Ma-fq2gIRv"
   },
   "outputs": [],
   "source": [
    "# select predictors\n",
    "predictors = ['SP_Ajclose', 'DJ_Ajclose', 'SF_Price',\n",
    "                 'SF_Trend', 'PLT_Price', 'PLT_Trend',\n",
    "                 'EU_Price', 'EU_Trend', 'USDI_Price',\n",
    "                 'USDI_Trend', 'USO_Adj Close',\n",
    "                 'SP_Trend', 'DJ_Trend', 'USO_Trend']"
   ]
  },
  {
   "cell_type": "code",
   "execution_count": 13,
   "metadata": {
    "id": "TAhB0LVZg9UW"
   },
   "outputs": [],
   "source": [
    "# get rid of features that would not be used\n",
    "df_trimmed = df[['Date', 'Adj Close', 'Gold_Trend'] + predictors]"
   ]
  },
  {
   "cell_type": "code",
   "execution_count": 14,
   "metadata": {
    "colab": {
     "base_uri": "https://localhost:8080/"
    },
    "id": "hnvUXv9LfCeR",
    "outputId": "81afa058-be47-4667-f712-96ee652f59d2"
   },
   "outputs": [
    {
     "data": {
      "text/plain": [
       "Index(['Date', 'Adj Close', 'Gold_Trend', 'SP_Ajclose', 'DJ_Ajclose',\n",
       "       'SF_Price', 'SF_Trend', 'PLT_Price', 'PLT_Trend', 'EU_Price',\n",
       "       'EU_Trend', 'USDI_Price', 'USDI_Trend', 'USO_Adj Close', 'SP_Trend',\n",
       "       'DJ_Trend', 'USO_Trend'],\n",
       "      dtype='object')"
      ]
     },
     "execution_count": 14,
     "metadata": {},
     "output_type": "execute_result"
    }
   ],
   "source": [
    "df_trimmed.columns"
   ]
  },
  {
   "cell_type": "code",
   "execution_count": 15,
   "metadata": {
    "id": "H-M4PdAmbKkV"
   },
   "outputs": [],
   "source": [
    "# get shifted data columns for previous 1 day\n",
    "df_shift_1 = pd.DataFrame()\n",
    "\n",
    "for col in predictors + ['Adj Close', 'Gold_Trend']:\n",
    "  df_shift_1[col + '_shift_1'] = df_trimmed[col].shift(1)"
   ]
  },
  {
   "cell_type": "code",
   "execution_count": 16,
   "metadata": {
    "id": "ekslarlNd6f8"
   },
   "outputs": [],
   "source": [
    "# get shifted data columns for previous 2 days\n",
    "\n",
    "df_shift_2 = pd.DataFrame()\n",
    "\n",
    "for col in predictors + ['Adj Close', 'Gold_Trend']:\n",
    "  df_shift_2[col + '_shift_2'] = df_trimmed[col].shift(2)"
   ]
  },
  {
   "cell_type": "code",
   "execution_count": 17,
   "metadata": {
    "id": "Gq2dbVSUfPAX"
   },
   "outputs": [],
   "source": [
    "# join data together\n",
    "data = pd.concat([df_trimmed, df_shift_1, df_shift_2], axis = 1)"
   ]
  },
  {
   "cell_type": "code",
   "execution_count": 18,
   "metadata": {
    "id": "kZ6wK0bMfw9b"
   },
   "outputs": [],
   "source": [
    "# drop null values and reset index\n",
    "data.dropna(inplace = True)\n",
    "data.reset_index(drop = True, inplace = True)"
   ]
  },
  {
   "cell_type": "code",
   "execution_count": 19,
   "metadata": {
    "id": "LZNgb_Hcfoh_"
   },
   "outputs": [],
   "source": [
    "# prepare X,y features\n",
    "X = data[['SP_Ajclose', 'SP_Trend',\n",
    "          'SF_Price', 'SF_Trend', 'PLT_Price', 'PLT_Trend',\n",
    "          'EU_Price', 'USDI_Price',\n",
    "          'USO_Trend',\n",
    "\n",
    "          'SP_Ajclose_shift_1', 'SP_Trend_shift_1', \n",
    "          'SF_Price_shift_1', 'SF_Trend_shift_1', 'PLT_Price_shift_1', 'PLT_Trend_shift_1',\n",
    "          'EU_Price_shift_1', 'USDI_Price_shift_1',\n",
    "          'USO_Trend_shift_1', 'Gold_Trend_shift_1']]\n",
    "\n",
    "y = data['Gold_Trend'] #dependent variable"
   ]
  },
  {
   "cell_type": "code",
   "execution_count": 20,
   "metadata": {
    "id": "nAEC0F1riQGY"
   },
   "outputs": [],
   "source": [
    "# break data into train and test sets for both categorical and numerical depdent variables\n",
    "X_train, X_test, y_train, y_test = train_test_split(X, y,\n",
    "                                                    stratify = y,\n",
    "                                                    test_size=0.2,\n",
    "                                                    random_state=404)"
   ]
  },
  {
   "cell_type": "markdown",
   "metadata": {
    "id": "TUqTx8LUrX32"
   },
   "source": [
    "# 2. Model Building"
   ]
  },
  {
   "cell_type": "code",
   "execution_count": 21,
   "metadata": {
    "id": "65b9W7_fTDbl"
   },
   "outputs": [],
   "source": [
    "# standardization\n",
    "scaler = MinMaxScaler()\n",
    "\n",
    "scaler.fit(X_train)\n",
    "X_train_scaled = scaler.transform(X_train)\n",
    "X_test_scaled = scaler.transform(X_test)"
   ]
  },
  {
   "cell_type": "markdown",
   "metadata": {},
   "source": [
    "## Baseline"
   ]
  },
  {
   "cell_type": "code",
   "execution_count": 22,
   "metadata": {},
   "outputs": [
    {
     "name": "stdout",
     "output_type": "stream",
     "text": [
      "\u001b[1m11/11\u001b[0m \u001b[32m━━━━━━━━━━━━━━━━━━━━\u001b[0m\u001b[37m\u001b[0m \u001b[1m0s\u001b[0m 2ms/step - accuracy: 0.7387 - loss: 0.6040 \n",
      "Test accuracy: 0.7238371968269348\n"
     ]
    }
   ],
   "source": [
    "baseline = keras.Sequential()\n",
    "\n",
    "baseline.add(keras.layers.Dense(units = 8, activation = 'relu'))\n",
    "baseline.add(keras.layers.Dense(units = 4, activation = 'relu'))\n",
    "baseline.add(keras.layers.Dense(units = 1, activation = 'sigmoid'))\n",
    "\n",
    "baseline.compile(optimizer = 'adam',\n",
    "                loss = 'binary_crossentropy',\n",
    "                metrics=['accuracy'])\n",
    "\n",
    "history = baseline.fit(X_train_scaled, y_train, epochs=10, validation_split=0.2, verbose = 0)\n",
    "test_loss, test_acc = baseline.evaluate(X_test_scaled, y_test)\n",
    "\n",
    "print('Test accuracy:', test_acc)"
   ]
  },
  {
   "cell_type": "markdown",
   "metadata": {},
   "source": [
    "## Tune with GridSearch to evaluate different hyperparameter combinations"
   ]
  },
  {
   "cell_type": "code",
   "execution_count": 23,
   "metadata": {},
   "outputs": [
    {
     "name": "stdout",
     "output_type": "stream",
     "text": [
      "\u001b[1m11/11\u001b[0m \u001b[32m━━━━━━━━━━━━━━━━━━━━\u001b[0m\u001b[37m\u001b[0m \u001b[1m0s\u001b[0m 1ms/step - accuracy: 0.7794 - loss: 0.5048 \n",
      "Test accuracy: 0.7761628031730652\n"
     ]
    }
   ],
   "source": [
    "tune_1 = keras.Sequential()\n",
    "\n",
    "tune_1.add(keras.layers.Dense(units = 8, activation = 'relu'))\n",
    "tune_1.add(keras.layers.Dense(units = 8, activation = 'relu'))\n",
    "tune_1.add(keras.layers.Dense(units = 1, activation = 'sigmoid'))\n",
    "\n",
    "tune_1.compile(optimizer = 'adam',\n",
    "                loss = 'binary_crossentropy',\n",
    "                metrics=['accuracy'])\n",
    "\n",
    "history = tune_1.fit(X_train_scaled, y_train, epochs=10, validation_split=0.2, verbose = 0)\n",
    "test_loss, test_acc = tune_1.evaluate(X_test_scaled, y_test)\n",
    "\n",
    "print('Test accuracy:', test_acc)"
   ]
  },
  {
   "cell_type": "code",
   "execution_count": 24,
   "metadata": {},
   "outputs": [
    {
     "name": "stdout",
     "output_type": "stream",
     "text": [
      "\u001b[1m11/11\u001b[0m \u001b[32m━━━━━━━━━━━━━━━━━━━━\u001b[0m\u001b[37m\u001b[0m \u001b[1m0s\u001b[0m 1ms/step - accuracy: 0.7893 - loss: 0.4899 \n",
      "Test accuracy: 0.7645348906517029\n"
     ]
    }
   ],
   "source": [
    "tune_2 = keras.Sequential()\n",
    "\n",
    "tune_2.add(keras.layers.Dense(units = 8, activation = 'relu'))\n",
    "tune_2.add(keras.layers.Dense(units = 8, activation = 'relu'))\n",
    "tune_2.add(keras.layers.Dense(units = 1, activation = 'sigmoid'))\n",
    "\n",
    "tune_2.compile(optimizer = 'adam',\n",
    "                loss = 'binary_crossentropy',\n",
    "                metrics=['accuracy'])\n",
    "\n",
    "history = tune_2.fit(X_train_scaled, y_train, epochs=50, validation_split=0.2, verbose = 0)\n",
    "test_loss, test_acc = tune_2.evaluate(X_test_scaled, y_test)\n",
    "\n",
    "print('Test accuracy:', test_acc)"
   ]
  },
  {
   "cell_type": "code",
   "execution_count": 25,
   "metadata": {},
   "outputs": [
    {
     "name": "stdout",
     "output_type": "stream",
     "text": [
      "\u001b[1m11/11\u001b[0m \u001b[32m━━━━━━━━━━━━━━━━━━━━\u001b[0m\u001b[37m\u001b[0m \u001b[1m0s\u001b[0m 1ms/step - accuracy: 0.7897 - loss: 0.5010 \n",
      "Test accuracy: 0.7674418687820435\n"
     ]
    }
   ],
   "source": [
    "tune_3 = keras.Sequential()\n",
    "\n",
    "tune_3.add(keras.layers.Dense(units = 16, activation = 'relu'))\n",
    "tune_3.add(keras.layers.Dense(units = 16, activation = 'relu'))\n",
    "tune_3.add(keras.layers.Dense(units = 16, activation = 'relu'))\n",
    "tune_3.add(keras.layers.Dense(units = 1, activation = 'sigmoid'))\n",
    "\n",
    "tune_3.compile(optimizer = 'adam',\n",
    "                loss = 'binary_crossentropy',\n",
    "                metrics=['accuracy'])\n",
    "\n",
    "history = tune_3.fit(X_train_scaled, y_train, epochs=50, validation_split=0.2, verbose = 0)\n",
    "test_loss, test_acc = tune_3.evaluate(X_test_scaled, y_test)\n",
    "\n",
    "print('Test accuracy:', test_acc)"
   ]
  },
  {
   "cell_type": "code",
   "execution_count": 26,
   "metadata": {},
   "outputs": [
    {
     "name": "stdout",
     "output_type": "stream",
     "text": [
      "\u001b[1m11/11\u001b[0m \u001b[32m━━━━━━━━━━━━━━━━━━━━\u001b[0m\u001b[37m\u001b[0m \u001b[1m0s\u001b[0m 1ms/step - accuracy: 0.7815 - loss: 0.4952 \n",
      "Test accuracy: 0.7529069781303406\n"
     ]
    }
   ],
   "source": [
    "tune_4 = keras.Sequential()\n",
    "\n",
    "tune_4.add(keras.layers.Dense(units = 16, activation = 'relu'))\n",
    "tune_4.add(keras.layers.Dense(units = 16, activation = 'relu'))\n",
    "tune_4.add(keras.layers.Dense(units = 16, activation = 'relu'))\n",
    "tune_4.add(keras.layers.Dense(units = 1, activation = 'sigmoid'))\n",
    "\n",
    "tune_4.compile(optimizer = 'rmsprop',\n",
    "                loss = 'binary_crossentropy',\n",
    "                metrics=['accuracy'])\n",
    "\n",
    "history = tune_4.fit(X_train_scaled, y_train, epochs=50, validation_split=0.2, verbose = 0)\n",
    "test_loss, test_acc = tune_4.evaluate(X_test_scaled, y_test)\n",
    "\n",
    "print('Test accuracy:', test_acc)"
   ]
  },
  {
   "cell_type": "code",
   "execution_count": 27,
   "metadata": {
    "id": "8YaVUjG9jcYT"
   },
   "outputs": [],
   "source": [
    "def model_builder(hp):\n",
    "\n",
    "    # Start Artificial Neural Network\n",
    "    network = keras.Sequential()\n",
    "\n",
    "    # Adding the input layer and the first hidden layer\n",
    "    hp_units = hp.Int('units', min_value=8, max_value=32, step=2)\n",
    "    network.add(keras.layers.Dense(units = hp_units,\n",
    "                  activation = 'relu'))\n",
    "\n",
    "    # Adding the second hidden layer\n",
    "    network.add(keras.layers.Dense(units = hp_units,\n",
    "                  activation = 'relu'))\n",
    "\n",
    "    # Adding the third hidden layer\n",
    "    network.add(keras.layers.Dense(units = hp_units,\n",
    "                  activation = 'relu'))\n",
    "\n",
    "    # Adding the output layer\n",
    "    network.add(keras.layers.Dense(units = 1, activation = 'sigmoid'))\n",
    "\n",
    "\n",
    "    hp_learning_rate = hp.Choice('learning_rate', values=[0.01, 0.001, 0.0005])\n",
    "\n",
    "    # Compile NN\n",
    "    network.compile(optimizer = 'adam',\n",
    "                loss = 'binary_crossentropy',\n",
    "                metrics=['accuracy'])\n",
    "\n",
    "    # Return compiled network\n",
    "    return network"
   ]
  },
  {
   "cell_type": "markdown",
   "metadata": {},
   "source": [
    "## Tune with keras_tuner"
   ]
  },
  {
   "cell_type": "code",
   "execution_count": 28,
   "metadata": {
    "colab": {
     "base_uri": "https://localhost:8080/"
    },
    "id": "c_2YgA67qNEg",
    "outputId": "65600a40-5deb-4a1c-cb01-24601ffc9f6b"
   },
   "outputs": [
    {
     "name": "stdout",
     "output_type": "stream",
     "text": [
      "Reloading Tuner from my_dir/kt_tuning/tuner0.json\n"
     ]
    }
   ],
   "source": [
    "tuner = kt.Hyperband(model_builder,\n",
    "                     objective='val_accuracy',\n",
    "                     max_epochs=100,\n",
    "                     factor=3,\n",
    "                     directory='my_dir',\n",
    "                     project_name='kt_tuning')"
   ]
  },
  {
   "cell_type": "code",
   "execution_count": 29,
   "metadata": {
    "id": "aRHA2RorqbaC"
   },
   "outputs": [],
   "source": [
    "stop_early = keras.callbacks.EarlyStopping(monitor='val_loss', patience=5)"
   ]
  },
  {
   "cell_type": "code",
   "execution_count": 30,
   "metadata": {
    "colab": {
     "base_uri": "https://localhost:8080/"
    },
    "id": "Yhm2wPBTqKsD",
    "outputId": "57090941-3358-4b99-8e80-c12b8abe7468"
   },
   "outputs": [
    {
     "name": "stdout",
     "output_type": "stream",
     "text": [
      "\n",
      "The hyperparameter search is complete. The optimal number of units in the first densely-connected\n",
      "layer is 26 and the optimal learning rate for the optimizer\n",
      "is 0.01.\n",
      "\n"
     ]
    }
   ],
   "source": [
    "tuner.search(X_train_scaled, y_train, epochs=50, validation_split=0.2, callbacks=[stop_early])\n",
    "\n",
    "best_hps=tuner.get_best_hyperparameters(num_trials=1)[0]\n",
    "\n",
    "print(f\"\"\"\n",
    "The hyperparameter search is complete. The optimal number of units in the first densely-connected\n",
    "layer is {best_hps.get('units')} and the optimal learning rate for the optimizer\n",
    "is {best_hps.get('learning_rate')}.\n",
    "\"\"\")"
   ]
  },
  {
   "cell_type": "code",
   "execution_count": 31,
   "metadata": {
    "colab": {
     "base_uri": "https://localhost:8080/"
    },
    "id": "Y2e3zb_dqKqG",
    "outputId": "deb4afed-2b15-45fd-e9a5-74c51ec197e2"
   },
   "outputs": [
    {
     "name": "stdout",
     "output_type": "stream",
     "text": [
      "Best epoch: 14\n"
     ]
    }
   ],
   "source": [
    "model = tuner.hypermodel.build(best_hps)\n",
    "history = model.fit(X_train_scaled, y_train, epochs=50, validation_split=0.2, verbose = 0)\n",
    "\n",
    "val_acc_per_epoch = history.history['val_accuracy']\n",
    "best_epoch = val_acc_per_epoch.index(max(val_acc_per_epoch)) + 1\n",
    "print('Best epoch: %d' % (best_epoch,))"
   ]
  },
  {
   "cell_type": "code",
   "execution_count": 32,
   "metadata": {},
   "outputs": [
    {
     "data": {
      "text/plain": [
       "0.7345454692840576"
      ]
     },
     "execution_count": 32,
     "metadata": {},
     "output_type": "execute_result"
    }
   ],
   "source": [
    "val_acc_per_epoch[best_epoch]"
   ]
  },
  {
   "cell_type": "code",
   "execution_count": 33,
   "metadata": {
    "colab": {
     "base_uri": "https://localhost:8080/"
    },
    "id": "IjF8uYx2qKn1",
    "outputId": "90858bdf-9e94-44e5-aa74-5c866c6904e0"
   },
   "outputs": [
    {
     "name": "stdout",
     "output_type": "stream",
     "text": [
      "Epoch 1/14\n",
      "\u001b[1m35/35\u001b[0m \u001b[32m━━━━━━━━━━━━━━━━━━━━\u001b[0m\u001b[37m\u001b[0m \u001b[1m1s\u001b[0m 6ms/step - accuracy: 0.5319 - loss: 0.7030 - val_accuracy: 0.6582 - val_loss: 0.6750\n",
      "Epoch 2/14\n",
      "\u001b[1m35/35\u001b[0m \u001b[32m━━━━━━━━━━━━━━━━━━━━\u001b[0m\u001b[37m\u001b[0m \u001b[1m0s\u001b[0m 2ms/step - accuracy: 0.7205 - loss: 0.6594 - val_accuracy: 0.7091 - val_loss: 0.6259\n",
      "Epoch 3/14\n",
      "\u001b[1m35/35\u001b[0m \u001b[32m━━━━━━━━━━━━━━━━━━━━\u001b[0m\u001b[37m\u001b[0m \u001b[1m0s\u001b[0m 2ms/step - accuracy: 0.7381 - loss: 0.5994 - val_accuracy: 0.7127 - val_loss: 0.5753\n",
      "Epoch 4/14\n",
      "\u001b[1m35/35\u001b[0m \u001b[32m━━━━━━━━━━━━━━━━━━━━\u001b[0m\u001b[37m\u001b[0m \u001b[1m0s\u001b[0m 3ms/step - accuracy: 0.7370 - loss: 0.5428 - val_accuracy: 0.6945 - val_loss: 0.5625\n",
      "Epoch 5/14\n",
      "\u001b[1m35/35\u001b[0m \u001b[32m━━━━━━━━━━━━━━━━━━━━\u001b[0m\u001b[37m\u001b[0m \u001b[1m0s\u001b[0m 3ms/step - accuracy: 0.7590 - loss: 0.5010 - val_accuracy: 0.7164 - val_loss: 0.5596\n",
      "Epoch 6/14\n",
      "\u001b[1m35/35\u001b[0m \u001b[32m━━━━━━━━━━━━━━━━━━━━\u001b[0m\u001b[37m\u001b[0m \u001b[1m0s\u001b[0m 2ms/step - accuracy: 0.7534 - loss: 0.5261 - val_accuracy: 0.7200 - val_loss: 0.5566\n",
      "Epoch 7/14\n",
      "\u001b[1m35/35\u001b[0m \u001b[32m━━━━━━━━━━━━━━━━━━━━\u001b[0m\u001b[37m\u001b[0m \u001b[1m0s\u001b[0m 3ms/step - accuracy: 0.7636 - loss: 0.5184 - val_accuracy: 0.7273 - val_loss: 0.5587\n",
      "Epoch 8/14\n",
      "\u001b[1m35/35\u001b[0m \u001b[32m━━━━━━━━━━━━━━━━━━━━\u001b[0m\u001b[37m\u001b[0m \u001b[1m0s\u001b[0m 2ms/step - accuracy: 0.7649 - loss: 0.5009 - val_accuracy: 0.7236 - val_loss: 0.5521\n",
      "Epoch 9/14\n",
      "\u001b[1m35/35\u001b[0m \u001b[32m━━━━━━━━━━━━━━━━━━━━\u001b[0m\u001b[37m\u001b[0m \u001b[1m0s\u001b[0m 2ms/step - accuracy: 0.7834 - loss: 0.4774 - val_accuracy: 0.7309 - val_loss: 0.5521\n",
      "Epoch 10/14\n",
      "\u001b[1m35/35\u001b[0m \u001b[32m━━━━━━━━━━━━━━━━━━━━\u001b[0m\u001b[37m\u001b[0m \u001b[1m0s\u001b[0m 2ms/step - accuracy: 0.7790 - loss: 0.4895 - val_accuracy: 0.7200 - val_loss: 0.5500\n",
      "Epoch 11/14\n",
      "\u001b[1m35/35\u001b[0m \u001b[32m━━━━━━━━━━━━━━━━━━━━\u001b[0m\u001b[37m\u001b[0m \u001b[1m0s\u001b[0m 2ms/step - accuracy: 0.7665 - loss: 0.5043 - val_accuracy: 0.7164 - val_loss: 0.5504\n",
      "Epoch 12/14\n",
      "\u001b[1m35/35\u001b[0m \u001b[32m━━━━━━━━━━━━━━━━━━━━\u001b[0m\u001b[37m\u001b[0m \u001b[1m0s\u001b[0m 2ms/step - accuracy: 0.7662 - loss: 0.5086 - val_accuracy: 0.7309 - val_loss: 0.5514\n",
      "Epoch 13/14\n",
      "\u001b[1m35/35\u001b[0m \u001b[32m━━━━━━━━━━━━━━━━━━━━\u001b[0m\u001b[37m\u001b[0m \u001b[1m0s\u001b[0m 3ms/step - accuracy: 0.7917 - loss: 0.4760 - val_accuracy: 0.7091 - val_loss: 0.5527\n",
      "Epoch 14/14\n",
      "\u001b[1m35/35\u001b[0m \u001b[32m━━━━━━━━━━━━━━━━━━━━\u001b[0m\u001b[37m\u001b[0m \u001b[1m0s\u001b[0m 2ms/step - accuracy: 0.7666 - loss: 0.4924 - val_accuracy: 0.7309 - val_loss: 0.5496\n"
     ]
    },
    {
     "data": {
      "text/plain": [
       "<keras.src.callbacks.history.History at 0x7f867e6a95a0>"
      ]
     },
     "execution_count": 33,
     "metadata": {},
     "output_type": "execute_result"
    }
   ],
   "source": [
    "# Re-instantiate the hypermodel and train it with the optimal number of epochs\n",
    "\n",
    "hypermodel = tuner.hypermodel.build(best_hps)\n",
    "\n",
    "# Retrain the model\n",
    "\n",
    "hypermodel.fit(X_train_scaled, y_train, epochs=best_epoch, validation_split=0.2)"
   ]
  },
  {
   "cell_type": "code",
   "execution_count": 34,
   "metadata": {
    "colab": {
     "base_uri": "https://localhost:8080/"
    },
    "id": "k1hP6w2-qKll",
    "outputId": "9201ba84-48a9-47e2-d190-6edfcff5cde2"
   },
   "outputs": [
    {
     "name": "stdout",
     "output_type": "stream",
     "text": [
      "\u001b[1m11/11\u001b[0m \u001b[32m━━━━━━━━━━━━━━━━━━━━\u001b[0m\u001b[37m\u001b[0m \u001b[1m0s\u001b[0m 1ms/step - accuracy: 0.7740 - loss: 0.4958 \n",
      "Test accuracy: 0.7674418687820435\n"
     ]
    }
   ],
   "source": [
    "test_loss, test_acc = hypermodel.evaluate(X_test_scaled, y_test)\n",
    "\n",
    "print('Test accuracy:', test_acc)"
   ]
  },
  {
   "cell_type": "code",
   "execution_count": 35,
   "metadata": {
    "colab": {
     "base_uri": "https://localhost:8080/"
    },
    "id": "E6Kb_gzAxYf_",
    "outputId": "b9cdf133-e572-467d-8eb8-45985d9b16c5"
   },
   "outputs": [
    {
     "name": "stdout",
     "output_type": "stream",
     "text": [
      "\u001b[1m11/11\u001b[0m \u001b[32m━━━━━━━━━━━━━━━━━━━━\u001b[0m\u001b[37m\u001b[0m \u001b[1m0s\u001b[0m 5ms/step \n"
     ]
    }
   ],
   "source": [
    "predictions = hypermodel.predict(X_test_scaled)"
   ]
  },
  {
   "cell_type": "code",
   "execution_count": 36,
   "metadata": {
    "colab": {
     "base_uri": "https://localhost:8080/"
    },
    "id": "CEwbmGy6E0XB",
    "outputId": "f2e50d6b-7aa7-4b7f-90b4-f1d2c2aae578"
   },
   "outputs": [
    {
     "data": {
      "text/plain": [
       "numpy.ndarray"
      ]
     },
     "execution_count": 36,
     "metadata": {},
     "output_type": "execute_result"
    }
   ],
   "source": [
    "type(predictions)"
   ]
  },
  {
   "cell_type": "code",
   "execution_count": 37,
   "metadata": {
    "id": "7NSfNA7oDaDt"
   },
   "outputs": [],
   "source": [
    "predictions_labels = np.array([1 if pred > 0.5 else 0 for pred in predictions])"
   ]
  },
  {
   "cell_type": "code",
   "execution_count": 38,
   "metadata": {
    "id": "YSHXngSBGiqc"
   },
   "outputs": [],
   "source": [
    "Features = pd.DataFrame(X_test_scaled, columns = ['SP_Ajclose', 'SP_Trend',\n",
    "          'SF_Price', 'SF_Trend', 'PLT_Price', 'PLT_Trend',\n",
    "          'EU_Price', 'USDI_Price',\n",
    "          'USO_Trend',\n",
    "\n",
    "          'SP_Ajclose_shift_1', 'SP_Trend_shift_1', \n",
    "          'SF_Price_shift_1', 'SF_Trend_shift_1', 'PLT_Price_shift_1', 'PLT_Trend_shift_1',\n",
    "          'EU_Price_shift_1', 'USDI_Price_shift_1',\n",
    "          'USO_Trend_shift_1', 'Gold_Trend_shift_1'])\n",
    "GainActual = pd.DataFrame(np.array(y_test).reshape(-1,1), columns = ['GainActual'])\n",
    "GainPrediction = pd.DataFrame(predictions_labels.reshape(-1,1), columns = ['GainPrediction'])\n",
    "GainAccurate = pd.DataFrame((GainActual['GainActual'] ==  GainPrediction['GainPrediction']).astype(int), columns = ['GainAccurate'])\n",
    "NotGainProbability = pd.DataFrame(1-predictions.reshape(-1,1), columns = ['NotGainProbability'])\n",
    "GainProbability = pd.DataFrame(predictions.reshape(-1,1), columns = ['GainProbability'])"
   ]
  },
  {
   "cell_type": "code",
   "execution_count": 39,
   "metadata": {
    "id": "12WkbYaEIW-v"
   },
   "outputs": [],
   "source": [
    "output = pd.concat([Features, GainActual, GainPrediction, GainAccurate, NotGainProbability, GainProbability], axis = 1)"
   ]
  },
  {
   "cell_type": "code",
   "execution_count": 40,
   "metadata": {
    "colab": {
     "base_uri": "https://localhost:8080/",
     "height": 461
    },
    "id": "75e_5L-LIk_o",
    "outputId": "b3c70a05-43ea-4c26-9d9e-215574b07e15"
   },
   "outputs": [
    {
     "data": {
      "text/html": [
       "<div>\n",
       "<style scoped>\n",
       "    .dataframe tbody tr th:only-of-type {\n",
       "        vertical-align: middle;\n",
       "    }\n",
       "\n",
       "    .dataframe tbody tr th {\n",
       "        vertical-align: top;\n",
       "    }\n",
       "\n",
       "    .dataframe thead th {\n",
       "        text-align: right;\n",
       "    }\n",
       "</style>\n",
       "<table border=\"1\" class=\"dataframe\">\n",
       "  <thead>\n",
       "    <tr style=\"text-align: right;\">\n",
       "      <th></th>\n",
       "      <th>SP_Ajclose</th>\n",
       "      <th>SP_Trend</th>\n",
       "      <th>SF_Price</th>\n",
       "      <th>SF_Trend</th>\n",
       "      <th>PLT_Price</th>\n",
       "      <th>PLT_Trend</th>\n",
       "      <th>EU_Price</th>\n",
       "      <th>USDI_Price</th>\n",
       "      <th>USO_Trend</th>\n",
       "      <th>SP_Ajclose_shift_1</th>\n",
       "      <th>...</th>\n",
       "      <th>PLT_Trend_shift_1</th>\n",
       "      <th>EU_Price_shift_1</th>\n",
       "      <th>USDI_Price_shift_1</th>\n",
       "      <th>USO_Trend_shift_1</th>\n",
       "      <th>Gold_Trend_shift_1</th>\n",
       "      <th>GainActual</th>\n",
       "      <th>GainPrediction</th>\n",
       "      <th>GainAccurate</th>\n",
       "      <th>NotGainProbability</th>\n",
       "      <th>GainProbability</th>\n",
       "    </tr>\n",
       "  </thead>\n",
       "  <tbody>\n",
       "    <tr>\n",
       "      <th>0</th>\n",
       "      <td>0.033696</td>\n",
       "      <td>1.0</td>\n",
       "      <td>0.620727</td>\n",
       "      <td>1.0</td>\n",
       "      <td>0.693856</td>\n",
       "      <td>1.0</td>\n",
       "      <td>0.750000</td>\n",
       "      <td>0.064736</td>\n",
       "      <td>1.0</td>\n",
       "      <td>0.024315</td>\n",
       "      <td>...</td>\n",
       "      <td>1.0</td>\n",
       "      <td>0.720522</td>\n",
       "      <td>0.089080</td>\n",
       "      <td>0.0</td>\n",
       "      <td>1.0</td>\n",
       "      <td>1</td>\n",
       "      <td>1</td>\n",
       "      <td>1</td>\n",
       "      <td>0.144015</td>\n",
       "      <td>0.855985</td>\n",
       "    </tr>\n",
       "    <tr>\n",
       "      <th>1</th>\n",
       "      <td>0.416230</td>\n",
       "      <td>1.0</td>\n",
       "      <td>0.285505</td>\n",
       "      <td>1.0</td>\n",
       "      <td>0.686163</td>\n",
       "      <td>0.0</td>\n",
       "      <td>0.809173</td>\n",
       "      <td>0.159833</td>\n",
       "      <td>1.0</td>\n",
       "      <td>0.413033</td>\n",
       "      <td>...</td>\n",
       "      <td>0.0</td>\n",
       "      <td>0.825964</td>\n",
       "      <td>0.145807</td>\n",
       "      <td>0.0</td>\n",
       "      <td>0.0</td>\n",
       "      <td>0</td>\n",
       "      <td>1</td>\n",
       "      <td>0</td>\n",
       "      <td>0.452948</td>\n",
       "      <td>0.547052</td>\n",
       "    </tr>\n",
       "    <tr>\n",
       "      <th>2</th>\n",
       "      <td>0.411178</td>\n",
       "      <td>1.0</td>\n",
       "      <td>0.014569</td>\n",
       "      <td>0.0</td>\n",
       "      <td>0.061387</td>\n",
       "      <td>0.0</td>\n",
       "      <td>0.131087</td>\n",
       "      <td>0.837517</td>\n",
       "      <td>1.0</td>\n",
       "      <td>0.394892</td>\n",
       "      <td>...</td>\n",
       "      <td>1.0</td>\n",
       "      <td>0.133503</td>\n",
       "      <td>0.828977</td>\n",
       "      <td>0.0</td>\n",
       "      <td>1.0</td>\n",
       "      <td>0</td>\n",
       "      <td>0</td>\n",
       "      <td>1</td>\n",
       "      <td>0.829158</td>\n",
       "      <td>0.170842</td>\n",
       "    </tr>\n",
       "    <tr>\n",
       "      <th>3</th>\n",
       "      <td>0.419071</td>\n",
       "      <td>1.0</td>\n",
       "      <td>0.049561</td>\n",
       "      <td>1.0</td>\n",
       "      <td>0.244599</td>\n",
       "      <td>0.0</td>\n",
       "      <td>0.204417</td>\n",
       "      <td>0.727802</td>\n",
       "      <td>1.0</td>\n",
       "      <td>0.417271</td>\n",
       "      <td>...</td>\n",
       "      <td>1.0</td>\n",
       "      <td>0.232710</td>\n",
       "      <td>0.703335</td>\n",
       "      <td>1.0</td>\n",
       "      <td>0.0</td>\n",
       "      <td>0</td>\n",
       "      <td>1</td>\n",
       "      <td>0</td>\n",
       "      <td>0.350464</td>\n",
       "      <td>0.649536</td>\n",
       "    </tr>\n",
       "    <tr>\n",
       "      <th>4</th>\n",
       "      <td>0.474340</td>\n",
       "      <td>0.0</td>\n",
       "      <td>0.093736</td>\n",
       "      <td>1.0</td>\n",
       "      <td>0.302034</td>\n",
       "      <td>0.0</td>\n",
       "      <td>0.185447</td>\n",
       "      <td>0.729971</td>\n",
       "      <td>0.0</td>\n",
       "      <td>0.476919</td>\n",
       "      <td>...</td>\n",
       "      <td>1.0</td>\n",
       "      <td>0.192177</td>\n",
       "      <td>0.721216</td>\n",
       "      <td>0.0</td>\n",
       "      <td>0.0</td>\n",
       "      <td>1</td>\n",
       "      <td>1</td>\n",
       "      <td>1</td>\n",
       "      <td>0.221073</td>\n",
       "      <td>0.778927</td>\n",
       "    </tr>\n",
       "    <tr>\n",
       "      <th>...</th>\n",
       "      <td>...</td>\n",
       "      <td>...</td>\n",
       "      <td>...</td>\n",
       "      <td>...</td>\n",
       "      <td>...</td>\n",
       "      <td>...</td>\n",
       "      <td>...</td>\n",
       "      <td>...</td>\n",
       "      <td>...</td>\n",
       "      <td>...</td>\n",
       "      <td>...</td>\n",
       "      <td>...</td>\n",
       "      <td>...</td>\n",
       "      <td>...</td>\n",
       "      <td>...</td>\n",
       "      <td>...</td>\n",
       "      <td>...</td>\n",
       "      <td>...</td>\n",
       "      <td>...</td>\n",
       "      <td>...</td>\n",
       "      <td>...</td>\n",
       "    </tr>\n",
       "    <tr>\n",
       "      <th>339</th>\n",
       "      <td>0.482427</td>\n",
       "      <td>0.0</td>\n",
       "      <td>0.099869</td>\n",
       "      <td>0.0</td>\n",
       "      <td>0.427758</td>\n",
       "      <td>0.0</td>\n",
       "      <td>0.191676</td>\n",
       "      <td>0.710253</td>\n",
       "      <td>1.0</td>\n",
       "      <td>0.486155</td>\n",
       "      <td>...</td>\n",
       "      <td>0.0</td>\n",
       "      <td>0.218254</td>\n",
       "      <td>0.685856</td>\n",
       "      <td>1.0</td>\n",
       "      <td>0.0</td>\n",
       "      <td>0</td>\n",
       "      <td>0</td>\n",
       "      <td>1</td>\n",
       "      <td>0.736963</td>\n",
       "      <td>0.263037</td>\n",
       "    </tr>\n",
       "    <tr>\n",
       "      <th>340</th>\n",
       "      <td>0.114077</td>\n",
       "      <td>0.0</td>\n",
       "      <td>0.778438</td>\n",
       "      <td>1.0</td>\n",
       "      <td>0.800717</td>\n",
       "      <td>0.0</td>\n",
       "      <td>0.802378</td>\n",
       "      <td>0.056986</td>\n",
       "      <td>1.0</td>\n",
       "      <td>0.114821</td>\n",
       "      <td>...</td>\n",
       "      <td>1.0</td>\n",
       "      <td>0.798753</td>\n",
       "      <td>0.056286</td>\n",
       "      <td>1.0</td>\n",
       "      <td>1.0</td>\n",
       "      <td>1</td>\n",
       "      <td>1</td>\n",
       "      <td>1</td>\n",
       "      <td>0.425966</td>\n",
       "      <td>0.574034</td>\n",
       "    </tr>\n",
       "    <tr>\n",
       "      <th>341</th>\n",
       "      <td>0.518912</td>\n",
       "      <td>0.0</td>\n",
       "      <td>0.240925</td>\n",
       "      <td>1.0</td>\n",
       "      <td>0.235325</td>\n",
       "      <td>0.0</td>\n",
       "      <td>0.258777</td>\n",
       "      <td>0.628569</td>\n",
       "      <td>0.0</td>\n",
       "      <td>0.519648</td>\n",
       "      <td>...</td>\n",
       "      <td>1.0</td>\n",
       "      <td>0.280045</td>\n",
       "      <td>0.612572</td>\n",
       "      <td>1.0</td>\n",
       "      <td>1.0</td>\n",
       "      <td>1</td>\n",
       "      <td>1</td>\n",
       "      <td>1</td>\n",
       "      <td>0.395006</td>\n",
       "      <td>0.604994</td>\n",
       "    </tr>\n",
       "    <tr>\n",
       "      <th>342</th>\n",
       "      <td>0.483945</td>\n",
       "      <td>0.0</td>\n",
       "      <td>0.092989</td>\n",
       "      <td>1.0</td>\n",
       "      <td>0.391822</td>\n",
       "      <td>0.0</td>\n",
       "      <td>0.094564</td>\n",
       "      <td>0.799365</td>\n",
       "      <td>0.0</td>\n",
       "      <td>0.484500</td>\n",
       "      <td>...</td>\n",
       "      <td>0.0</td>\n",
       "      <td>0.093821</td>\n",
       "      <td>0.796183</td>\n",
       "      <td>1.0</td>\n",
       "      <td>0.0</td>\n",
       "      <td>1</td>\n",
       "      <td>1</td>\n",
       "      <td>1</td>\n",
       "      <td>0.453075</td>\n",
       "      <td>0.546925</td>\n",
       "    </tr>\n",
       "    <tr>\n",
       "      <th>343</th>\n",
       "      <td>0.517976</td>\n",
       "      <td>0.0</td>\n",
       "      <td>0.339611</td>\n",
       "      <td>1.0</td>\n",
       "      <td>0.228528</td>\n",
       "      <td>1.0</td>\n",
       "      <td>0.196772</td>\n",
       "      <td>0.767600</td>\n",
       "      <td>0.0</td>\n",
       "      <td>0.523768</td>\n",
       "      <td>...</td>\n",
       "      <td>1.0</td>\n",
       "      <td>0.184240</td>\n",
       "      <td>0.777622</td>\n",
       "      <td>0.0</td>\n",
       "      <td>1.0</td>\n",
       "      <td>1</td>\n",
       "      <td>1</td>\n",
       "      <td>1</td>\n",
       "      <td>0.108172</td>\n",
       "      <td>0.891828</td>\n",
       "    </tr>\n",
       "  </tbody>\n",
       "</table>\n",
       "<p>344 rows × 24 columns</p>\n",
       "</div>"
      ],
      "text/plain": [
       "     SP_Ajclose  SP_Trend  SF_Price  SF_Trend  PLT_Price  PLT_Trend  EU_Price  \\\n",
       "0      0.033696       1.0  0.620727       1.0   0.693856        1.0  0.750000   \n",
       "1      0.416230       1.0  0.285505       1.0   0.686163        0.0  0.809173   \n",
       "2      0.411178       1.0  0.014569       0.0   0.061387        0.0  0.131087   \n",
       "3      0.419071       1.0  0.049561       1.0   0.244599        0.0  0.204417   \n",
       "4      0.474340       0.0  0.093736       1.0   0.302034        0.0  0.185447   \n",
       "..          ...       ...       ...       ...        ...        ...       ...   \n",
       "339    0.482427       0.0  0.099869       0.0   0.427758        0.0  0.191676   \n",
       "340    0.114077       0.0  0.778438       1.0   0.800717        0.0  0.802378   \n",
       "341    0.518912       0.0  0.240925       1.0   0.235325        0.0  0.258777   \n",
       "342    0.483945       0.0  0.092989       1.0   0.391822        0.0  0.094564   \n",
       "343    0.517976       0.0  0.339611       1.0   0.228528        1.0  0.196772   \n",
       "\n",
       "     USDI_Price  USO_Trend  SP_Ajclose_shift_1  ...  PLT_Trend_shift_1  \\\n",
       "0      0.064736        1.0            0.024315  ...                1.0   \n",
       "1      0.159833        1.0            0.413033  ...                0.0   \n",
       "2      0.837517        1.0            0.394892  ...                1.0   \n",
       "3      0.727802        1.0            0.417271  ...                1.0   \n",
       "4      0.729971        0.0            0.476919  ...                1.0   \n",
       "..          ...        ...                 ...  ...                ...   \n",
       "339    0.710253        1.0            0.486155  ...                0.0   \n",
       "340    0.056986        1.0            0.114821  ...                1.0   \n",
       "341    0.628569        0.0            0.519648  ...                1.0   \n",
       "342    0.799365        0.0            0.484500  ...                0.0   \n",
       "343    0.767600        0.0            0.523768  ...                1.0   \n",
       "\n",
       "     EU_Price_shift_1  USDI_Price_shift_1  USO_Trend_shift_1  \\\n",
       "0            0.720522            0.089080                0.0   \n",
       "1            0.825964            0.145807                0.0   \n",
       "2            0.133503            0.828977                0.0   \n",
       "3            0.232710            0.703335                1.0   \n",
       "4            0.192177            0.721216                0.0   \n",
       "..                ...                 ...                ...   \n",
       "339          0.218254            0.685856                1.0   \n",
       "340          0.798753            0.056286                1.0   \n",
       "341          0.280045            0.612572                1.0   \n",
       "342          0.093821            0.796183                1.0   \n",
       "343          0.184240            0.777622                0.0   \n",
       "\n",
       "     Gold_Trend_shift_1  GainActual  GainPrediction  GainAccurate  \\\n",
       "0                   1.0           1               1             1   \n",
       "1                   0.0           0               1             0   \n",
       "2                   1.0           0               0             1   \n",
       "3                   0.0           0               1             0   \n",
       "4                   0.0           1               1             1   \n",
       "..                  ...         ...             ...           ...   \n",
       "339                 0.0           0               0             1   \n",
       "340                 1.0           1               1             1   \n",
       "341                 1.0           1               1             1   \n",
       "342                 0.0           1               1             1   \n",
       "343                 1.0           1               1             1   \n",
       "\n",
       "     NotGainProbability  GainProbability  \n",
       "0              0.144015         0.855985  \n",
       "1              0.452948         0.547052  \n",
       "2              0.829158         0.170842  \n",
       "3              0.350464         0.649536  \n",
       "4              0.221073         0.778927  \n",
       "..                  ...              ...  \n",
       "339            0.736963         0.263037  \n",
       "340            0.425966         0.574034  \n",
       "341            0.395006         0.604994  \n",
       "342            0.453075         0.546925  \n",
       "343            0.108172         0.891828  \n",
       "\n",
       "[344 rows x 24 columns]"
      ]
     },
     "execution_count": 40,
     "metadata": {},
     "output_type": "execute_result"
    }
   ],
   "source": [
    "output"
   ]
  },
  {
   "cell_type": "code",
   "execution_count": 41,
   "metadata": {
    "id": "azH_iTFoK6Nm"
   },
   "outputs": [],
   "source": [
    "output.to_csv(\"Predictions.csv\", encoding='utf-8', header=True, index=False)\n",
    "# Updates made upto this point in the program for the new dataset"
   ]
  },
  {
   "cell_type": "code",
   "execution_count": 42,
   "metadata": {},
   "outputs": [],
   "source": [
    "# Create directory to save model\n",
    "!mkdir -p Models"
   ]
  },
  {
   "cell_type": "code",
   "execution_count": 43,
   "metadata": {
    "colab": {
     "base_uri": "https://localhost:8080/",
     "height": 358
    },
    "id": "1OkqB4WntOix",
    "outputId": "62433a4e-12c5-467c-a170-5c926b954176"
   },
   "outputs": [],
   "source": [
    "# Save model\n",
    "hypermodel.save('saved_models/gold_prediction_model.keras')"
   ]
  }
 ],
 "metadata": {
  "colab": {
   "provenance": []
  },
  "kernelspec": {
   "display_name": "Python 3 (ipykernel)",
   "language": "python",
   "name": "python3"
  },
  "language_info": {
   "codemirror_mode": {
    "name": "ipython",
    "version": 3
   },
   "file_extension": ".py",
   "mimetype": "text/x-python",
   "name": "python",
   "nbconvert_exporter": "python",
   "pygments_lexer": "ipython3",
   "version": "3.10.13"
  }
 },
 "nbformat": 4,
 "nbformat_minor": 1
}
